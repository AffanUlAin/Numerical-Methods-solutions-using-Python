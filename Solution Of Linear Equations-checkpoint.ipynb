{
 "cells": [
  {
   "cell_type": "markdown",
   "metadata": {},
   "source": [
    "# **Solution Of linear Equations By Gauss Jacobi Method**"
   ]
  },
  {
   "cell_type": "markdown",
   "metadata": {},
   "source": [
    "**Solve the following set of linear equations:\n",
    "20x + y - 2z = 17;\n",
    "3x + 20y - z = -18;\n",
    "2x - 3y + 20z = 25**"
   ]
  },
  {
   "cell_type": "code",
   "execution_count": 11,
   "metadata": {},
   "outputs": [
    {
     "name": "stdout",
     "output_type": "stream",
     "text": [
      "iteration no :  1 \n",
      "x =  0.8500000000000001  y =  -0.9  z =  1.25\n",
      "iteration no :  2 \n",
      "x =  1.02  y =  -0.9650000000000001  z =  1.03\n",
      "iteration no :  3 \n",
      "x =  1.00125  y =  -1.0014999999999998  z =  1.0032500000000002\n",
      "iteration no :  4 \n",
      "x =  1.0004  y =  -1.000025  z =  0.9996499999999999\n",
      "iteration no :  5 \n",
      "x =  0.99996625  y =  -1.0000775000000002  z =  0.9999562500000002\n",
      "iteration no :  6 \n",
      "x =  0.9999995  y =  -0.999997125  z =  0.9999917500000001\n",
      "iteration no :  7 \n",
      "x =  0.99999903125  y =  -1.0000003375000002  z =  1.00000048125\n",
      "iteration no :  8 \n",
      "x =  1.000000065  y =  -0.999999830625  z =  1.00000004625\n",
      "iteration no :  9 \n",
      "x =  0.99999999615625  y =  -1.0000000074375  z =  1.0000000189062501\n",
      "iteration no :  10 \n",
      "x =  1.0000000022625002  y =  -0.9999999984781252  z =  0.9999999992687502\n",
      "iteration no :  11 \n",
      "x =  0.9999999998507813  y =  -1.0000000003759377  z =  1.0000000000020313\n",
      "iteration no :  12 \n",
      "x =  1.000000000019  y =  -0.9999999999775157  z =  0.9999999999585314\n",
      "iteration no :  13 \n",
      "x =  0.9999999999947289  y =  -1.0000000000049234  z =  1.0000000000014726\n",
      "iteration no :  14 \n",
      "x =  1.0000000000003935  y =  -0.9999999999991357  z =  0.9999999999997886\n",
      "iteration no :  15 \n",
      "x =  0.9999999999999357  y =  -1.0000000000000697  z =  1.0000000000000904\n",
      "iteration no :  16 \n",
      "x =  1.0000000000000127  y =  -0.999999999999986  z =  0.999999999999996\n",
      "iteration no :  17 \n",
      "x =  0.999999999999999  y =  -1.0000000000000022  z =  1.0000000000000009\n",
      "iteration no :  18 \n",
      "x =  1.0000000000000004  y =  -0.9999999999999999  z =  0.9999999999999999\n",
      "iteration no :  19 \n",
      "x =  1.0  y =  -1.0  z =  1.0\n"
     ]
    }
   ],
   "source": [
    "a=0\n",
    "b=0 \n",
    "c=0\n",
    "\n",
    "for j in range(1,20):\n",
    "    x=(1/20)*(17 - b + 2*c)\n",
    "    y=(1/20)*(-18 - 3*a + c)\n",
    "    z=(1/20)*(25 - 2*a + 3*b)\n",
    "    \n",
    "    print(\"iteration no : \",j, \"\\nx = \",x , \" y = \",y, \" z = \", z )\n",
    "    a=x\n",
    "    b=y\n",
    "    c=z"
   ]
  },
  {
   "cell_type": "markdown",
   "metadata": {},
   "source": [
    "# **Solution Of linear Equations By Gauss Scidel Method**"
   ]
  },
  {
   "cell_type": "code",
   "execution_count": 12,
   "metadata": {},
   "outputs": [
    {
     "name": "stdout",
     "output_type": "stream",
     "text": [
      "iteration no :  1 \n",
      "x =  0.8500000000000001  y =  -1.0275  z =  1.0108750000000002\n",
      "iteration no :  2 \n",
      "x =  1.0024625  y =  -0.9998256250000002  z =  0.9997799062500001\n",
      "iteration no :  3 \n",
      "x =  0.999969271875  y =  -1.00000639546875  z =  1.0000021134921877\n",
      "iteration no :  4 \n",
      "x =  1.0000005311226563  y =  -0.9999999739937891  z =  0.999999950788666\n",
      "iteration no :  5 \n",
      "x =  0.9999999937785561  y =  -1.0000000015273502  z =  1.0000000003930418\n",
      "iteration no :  6 \n",
      "x =  1.0000000001156717  y =  -0.9999999999976987  z =  0.9999999999887781\n",
      "iteration no :  7 \n",
      "x =  0.9999999999987628  y =  -1.0000000000003755  z =  1.0000000000000673\n",
      "iteration no :  8 \n",
      "x =  1.0000000000000255  y =  -1.0000000000000007  z =  0.9999999999999976\n",
      "iteration no :  9 \n",
      "x =  0.9999999999999999  y =  -1.0000000000000002  z =  1.0\n",
      "iteration no :  10 \n",
      "x =  1.0  y =  -1.0  z =  1.0\n",
      "iteration no :  11 \n",
      "x =  1.0  y =  -1.0  z =  1.0\n",
      "iteration no :  12 \n",
      "x =  1.0  y =  -1.0  z =  1.0\n",
      "iteration no :  13 \n",
      "x =  1.0  y =  -1.0  z =  1.0\n",
      "iteration no :  14 \n",
      "x =  1.0  y =  -1.0  z =  1.0\n",
      "iteration no :  15 \n",
      "x =  1.0  y =  -1.0  z =  1.0\n",
      "iteration no :  16 \n",
      "x =  1.0  y =  -1.0  z =  1.0\n",
      "iteration no :  17 \n",
      "x =  1.0  y =  -1.0  z =  1.0\n",
      "iteration no :  18 \n",
      "x =  1.0  y =  -1.0  z =  1.0\n",
      "iteration no :  19 \n",
      "x =  1.0  y =  -1.0  z =  1.0\n"
     ]
    }
   ],
   "source": [
    "##Solution Of linear Equations By Gauss Scidel Method\n",
    "\n",
    "a=0\n",
    "b=0 \n",
    "c=0\n",
    "\n",
    "for j in range(1,20):\n",
    "    x=(1/20)*(17 - b + 2*c)\n",
    "    a=x\n",
    "    y=(1/20)*(-18 - 3*a + c)\n",
    "    b=y\n",
    "    z=(1/20)*(25 - 2*a + 3*b)\n",
    "    c=z\n",
    "    \n",
    "    print(\"iteration no : \",j, \"\\nx = \",x , \" y = \",y, \" z = \", z )\n",
    "    \n",
    "    \n",
    "    "
   ]
  },
  {
   "cell_type": "code",
   "execution_count": null,
   "metadata": {},
   "outputs": [],
   "source": []
  },
  {
   "cell_type": "code",
   "execution_count": null,
   "metadata": {},
   "outputs": [],
   "source": []
  }
 ],
 "metadata": {
  "kernelspec": {
   "display_name": "Python 3",
   "language": "python",
   "name": "python3"
  },
  "language_info": {
   "codemirror_mode": {
    "name": "ipython",
    "version": 3
   },
   "file_extension": ".py",
   "mimetype": "text/x-python",
   "name": "python",
   "nbconvert_exporter": "python",
   "pygments_lexer": "ipython3",
   "version": "3.7.4"
  }
 },
 "nbformat": 4,
 "nbformat_minor": 2
}
